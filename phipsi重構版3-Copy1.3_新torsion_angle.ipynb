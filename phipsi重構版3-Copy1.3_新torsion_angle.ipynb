{
 "cells": [
  {
   "cell_type": "code",
   "execution_count": 5,
   "metadata": {},
   "outputs": [],
   "source": [
    "%matplotlib inline\n",
    "import numpy as np \n",
    "import pandas as pd\n",
    "import matplotlib.pyplot as plt #繪圖用\n",
    "from pyquaternion import Quaternion #用於旋轉"
   ]
  },
  {
   "cell_type": "markdown",
   "metadata": {},
   "source": [
    "## 版本更新\n",
    "1.修改函數名稱\n",
    "2.刪除舊版函數\n",
    "3.新torsion"
   ]
  },
  {
   "cell_type": "markdown",
   "metadata": {},
   "source": [
    "# PDB轉成Dataframe"
   ]
  },
  {
   "cell_type": "code",
   "execution_count": 6,
   "metadata": {},
   "outputs": [],
   "source": [
    "def pdb_to_df(pdb): \n",
    "    with open(pdb,'r',) as f: #開啟檔案\n",
    "        lines = []\n",
    "        for line in f.readlines() :\n",
    "            line = line.strip() #去除/n\n",
    "            line = line.split() #以空白分割\n",
    "            lines.append(line) \n",
    "    df = pd.DataFrame(lines,columns = list(\"abcdefghijk\"),dtype=np.float64) \n",
    "    # 轉成dataframe並用abcd代替上面columns，方便取出需要之編號\n",
    "    df = df.loc[:, (\"c\",\"e\",\"g\",\"h\",\"i\")]\n",
    "    df.columns = [\"element\",\"chain\", \"X\", \"Y\", \"Z\"]\n",
    "    #df.index = range(1,len(df)+1) #index改成1開始\n",
    "    mask = df[\"element\"].isin([\"C\",\"N\",\"CA\"]) #只抓取胺基酸主鍊N,CA,C\n",
    "    df = df[mask] \n",
    "    df[\"backbone_index\"] = df.index #保留原始骨架的index\n",
    "    return df "
   ]
  },
  {
   "cell_type": "markdown",
   "metadata": {},
   "source": [
    "# 向量長度\n",
    "向量(x, y, z)之長度為 $√(x^2+y^2+z^2)$"
   ]
  },
  {
   "cell_type": "markdown",
   "metadata": {},
   "source": [
    "用於對dataframe之運算"
   ]
  },
  {
   "cell_type": "code",
   "execution_count": 7,
   "metadata": {},
   "outputs": [],
   "source": [
    "def df_longth(v):\n",
    "    return np.linalg.norm(v,axis=1)"
   ]
  },
  {
   "cell_type": "markdown",
   "metadata": {},
   "source": [
    "用於小處之運算"
   ]
  },
  {
   "cell_type": "code",
   "execution_count": 8,
   "metadata": {},
   "outputs": [],
   "source": [
    "def longth(v):\n",
    "    return np.sqrt(np.sum(np.dot(v,v))) "
   ]
  },
  {
   "cell_type": "markdown",
   "metadata": {},
   "source": [
    "# 兩向量計算夾角"
   ]
  },
  {
   "cell_type": "markdown",
   "metadata": {},
   "source": [
    "二維矩陣用之dot"
   ]
  },
  {
   "cell_type": "code",
   "execution_count": 9,
   "metadata": {},
   "outputs": [],
   "source": [
    "def df_dot(v1, v2): \n",
    "    return np.sum(np.multiply(v1, v2), axis=1, dtype=np.float64)"
   ]
  },
  {
   "cell_type": "markdown",
   "metadata": {},
   "source": [
    "因為multply只支援同大小的array故把它變成三倍,m2.T是轉置矩陣"
   ]
  },
  {
   "cell_type": "code",
   "execution_count": 10,
   "metadata": {},
   "outputs": [],
   "source": [
    "def tothree(m):\n",
    "    m2 = np.array([m, m, m]) \n",
    "    return m2.T # .T表示該矩陣之轉置矩陣"
   ]
  },
  {
   "cell_type": "markdown",
   "metadata": {},
   "source": [
    "### 角度\n",
    "Cos = dot(v1, v2)/longth(v1)*longth(v2)\n",
    "但左右之cos值相同因此無法算出正負角度"
   ]
  },
  {
   "cell_type": "code",
   "execution_count": 11,
   "metadata": {},
   "outputs": [],
   "source": [
    "def angle(v1, v2, l1=\"check\", l2=\"check\"):\n",
    "    if l1 == \"check\" and l2 == \"check\": #若l1,l2沒有值再進行運算，提高速度\n",
    "        cos = df_dot(v1,v2)/(df_longth(v1)*df_longth(v2)) \n",
    "    else:\n",
    "        cos = df_dot(v1,v2)/(l1*l2) \n",
    "    return np.arccos(cos)"
   ]
  },
  {
   "cell_type": "markdown",
   "metadata": {},
   "source": [
    "### 向量\n",
    "後項XYZ-前項XYZ"
   ]
  },
  {
   "cell_type": "code",
   "execution_count": 12,
   "metadata": {},
   "outputs": [],
   "source": [
    "def df_vecter(df):\n",
    "    df[[\"VX\", \"VY\", \"VZ\"]] = df.loc[:, (\"X\", \"Y\", \"Z\")].diff()"
   ]
  },
  {
   "cell_type": "markdown",
   "metadata": {},
   "source": [
    "### 鍵長 \n",
    "$√(Vx^2+Vy^2+Vz^2)$"
   ]
  },
  {
   "cell_type": "code",
   "execution_count": 13,
   "metadata": {},
   "outputs": [],
   "source": [
    "def df_bond_longth(df):\n",
    "    df[\"bond_longth\"] = df_longth(df.loc[:, (\"VX\", \"VY\", \"VZ\")].values)"
   ]
  },
  {
   "cell_type": "markdown",
   "metadata": {},
   "source": [
    "### 鍵角\n",
    "$(V1·V2)/(l1*l2)$"
   ]
  },
  {
   "cell_type": "code",
   "execution_count": 14,
   "metadata": {},
   "outputs": [],
   "source": [
    "def df_bond_angle(df):\n",
    "    df[\"bond_angle\"] = np.NAN\n",
    "    vxyz = (\"VX\", \"VY\", \"VZ\")\n",
    "    v1 = df.loc[1:len(df)-1, vxyz].values #1-df-1\n",
    "    v2 = df.loc[2:len(df), vxyz].values\n",
    "    l1 = df.loc[1:len(df)-1, \"bond_longth\"].values\n",
    "    l2 = df.loc[2:len(df), \"bond_longth\"].values\n",
    "    df.loc[2:len(df), \"bond_angle\"] = angle(-v1, v2, l1, l2)"
   ]
  },
  {
   "cell_type": "markdown",
   "metadata": {},
   "source": [
    "### torsion\n",
    "假設有四點a-b-c-d, torsion為Vab和Vdc之夾角"
   ]
  },
  {
   "cell_type": "code",
   "execution_count": 15,
   "metadata": {},
   "outputs": [],
   "source": [
    "def df_torsion(df):\n",
    "    vxyz = (\"VX\", \"VY\", \"VZ\")\n",
    "    vab = -df.loc[2:(len(df)-2), vxyz].values\n",
    "    vdc = df.loc[4:len(df), vxyz].values\n",
    "    vbc = -df.loc[3:(len(df)-1), vxyz].values\n",
    "    lvbc = -df.loc[3:(len(df)-1), \"bond_longth\"].values\n",
    "    vqb = vab - tothree(df_dot(vab,vbc)/(lvbc**2))*vbc\n",
    "    vpc = vdc - tothree(df_dot(vdc,vbc)/(lvbc**2))*vbc\n",
    "    lvqb = np.linalg.norm(vqb,axis=1)\n",
    "    lvpc = np.linalg.norm(vpc,axis=1)\n",
    "    phipsi = angle(vqb, vpc)\n",
    "    #np.arccos(df_dot(vqb, vpc)/np.multiply(lvqb, lvpc))\n",
    "    df[\"torsion\"] = np.NaN\n",
    "    df.loc[1:len(df)-3, \"torsion\"] = phipsi"
   ]
  },
  {
   "cell_type": "code",
   "execution_count": 16,
   "metadata": {},
   "outputs": [],
   "source": [
    "def torsion_new(array):\n",
    "    q1,q2,q3=array[0:3] #指派1-3行為q1q2q3\n",
    "    q1Xq2 = np.cross(q1, q2) #第一個平面之法向量\n",
    "    q2Xq3 = np.cross(q2, q3) #第二個平面之法向量\n",
    "    n1 = q1Xq2/longth(q1Xq2) #q1Xq2單位向量\n",
    "    n2 = q2Xq3/longth(q1Xq2) #q2Xq3單位向量\n",
    "    u1 = n2 #第二個平面之單位法向量\n",
    "    u3 = q2/longth(q2) #q2單位向量\n",
    "    u2 = np.cross(u1, u3) \n",
    "    cos_theta = np.dot(n1, u1)\n",
    "    sin_theta = np.dot(n1, u2)\n",
    "    theta = -np.arctan2(sin_theta,cos_theta) \n",
    "    return theta"
   ]
  },
  {
   "cell_type": "markdown",
   "metadata": {},
   "source": [
    "# 分chain並進行運算"
   ]
  },
  {
   "cell_type": "markdown",
   "metadata": {},
   "source": [
    "輸入原始dataframe -> 分成數個chain -> reindex後分析各項數據 -> 把chain接回去並return"
   ]
  },
  {
   "cell_type": "code",
   "execution_count": 17,
   "metadata": {},
   "outputs": [],
   "source": [
    "def analyze(df):    \n",
    "    chain_group = df.groupby(\"chain\") #依照chain分成數個groupby\n",
    "    chain_index = chain_group.size().index # [A, B, C]\n",
    "    df_dir = {} #創建一個字典存放abc chain\n",
    "    \n",
    "    for i in chain_index:\n",
    "        df_dir[i] = chain_group.get_group(i) # {\"A\"= chainA之df}\n",
    "        df_dir[i].index = range(1, len(df_dir[i])+1) # 分別對每個chain進行reindex 方便後續處理\n",
    "        operation(df_dir[i])\n",
    "        \n",
    "    return pd.concat(df_dir)"
   ]
  },
  {
   "cell_type": "markdown",
   "metadata": {},
   "source": [
    "產生向量、鍵長、鍵角、兩面角"
   ]
  },
  {
   "cell_type": "code",
   "execution_count": 18,
   "metadata": {},
   "outputs": [],
   "source": [
    "def operation(df):\n",
    "    df_vecter(df)\n",
    "    df_bond_longth(df)\n",
    "    df_bond_angle(df)\n",
    "    vxyz = (\"VX\", \"VY\", \"VZ\")\n",
    "    for i in range(2,len(df)-1):\n",
    "        array = df.loc[i:i+2, vxyz].values\n",
    "        df.loc[i+2:i+2,\"torsion\"] = torsion_new(array)"
   ]
  },
  {
   "cell_type": "markdown",
   "metadata": {},
   "source": [
    "# 主程式\n",
    "1.pdb -> df\n",
    "2.分chain\n",
    "3.進行運算\n",
    "4.合併"
   ]
  },
  {
   "cell_type": "code",
   "execution_count": null,
   "metadata": {
    "scrolled": true
   },
   "outputs": [
    {
     "name": "stderr",
     "output_type": "stream",
     "text": [
      "C:\\Users\\z9875\\Anaconda3\\lib\\site-packages\\pandas\\core\\frame.py:3140: SettingWithCopyWarning: \n",
      "A value is trying to be set on a copy of a slice from a DataFrame.\n",
      "Try using .loc[row_indexer,col_indexer] = value instead\n",
      "\n",
      "See the caveats in the documentation: http://pandas.pydata.org/pandas-docs/stable/indexing.html#indexing-view-versus-copy\n",
      "  self[k1] = value[k2]\n",
      "C:\\Users\\z9875\\Anaconda3\\lib\\site-packages\\ipykernel_launcher.py:2: SettingWithCopyWarning: \n",
      "A value is trying to be set on a copy of a slice from a DataFrame.\n",
      "Try using .loc[row_indexer,col_indexer] = value instead\n",
      "\n",
      "See the caveats in the documentation: http://pandas.pydata.org/pandas-docs/stable/indexing.html#indexing-view-versus-copy\n",
      "  \n",
      "C:\\Users\\z9875\\Anaconda3\\lib\\site-packages\\ipykernel_launcher.py:2: FutureWarning: elementwise comparison failed; returning scalar instead, but in the future will perform elementwise comparison\n",
      "  \n",
      "C:\\Users\\z9875\\Anaconda3\\lib\\site-packages\\pandas\\core\\indexing.py:543: SettingWithCopyWarning: \n",
      "A value is trying to be set on a copy of a slice from a DataFrame.\n",
      "Try using .loc[row_indexer,col_indexer] = value instead\n",
      "\n",
      "See the caveats in the documentation: http://pandas.pydata.org/pandas-docs/stable/indexing.html#indexing-view-versus-copy\n",
      "  self.obj[item] = s\n",
      "C:\\Users\\z9875\\Anaconda3\\lib\\site-packages\\pandas\\core\\indexing.py:362: SettingWithCopyWarning: \n",
      "A value is trying to be set on a copy of a slice from a DataFrame.\n",
      "Try using .loc[row_indexer,col_indexer] = value instead\n",
      "\n",
      "See the caveats in the documentation: http://pandas.pydata.org/pandas-docs/stable/indexing.html#indexing-view-versus-copy\n",
      "  self.obj[key] = _infer_fill_value(value)\n"
     ]
    }
   ],
   "source": [
    "pdb = r'C:\\Users\\z9875\\code\\skp.pdb'\n",
    "df = pdb_to_df(pdb)\n",
    "\n",
    "final_df = analyze(df)"
   ]
  },
  {
   "cell_type": "code",
   "execution_count": null,
   "metadata": {
    "scrolled": true
   },
   "outputs": [],
   "source": [
    "final_df"
   ]
  },
  {
   "cell_type": "markdown",
   "metadata": {},
   "source": [
    "# 回推主鍊結構 \n",
    "假設主練結構為 a-b-c-d "
   ]
  },
  {
   "cell_type": "code",
   "execution_count": null,
   "metadata": {},
   "outputs": [],
   "source": [
    "def pushback(df):#更改過\n",
    "    df[\"AnsX\"], df[\"AnsY\"], df[\"AnsZ\"] = np.NaN, np.NaN, np.NaN #將答案三欄先設為空值\n",
    "    df.loc[1:3, (\"AnsX\", \"AnsY\", \"AnsZ\")] = df.loc[1:3, (\"X\", \"Y\", \"Z\")].values \n",
    "    for i in range(4, len(df)+1):\n",
    "        vba, vcb =  df.loc[i-2:i-1, (\"VX\", \"VY\", \"VZ\")].values #向量 vba, vcb\n",
    "        axis1 = np.cross(-vba, vcb) # 第一個旋轉軸是 vab和Vcb的法向量\n",
    "        anglebca = df.loc[i-1, \"bond_angle\"] # 角bca\n",
    "        v_tmp = Quaternion(axis=axis1, angle=anglebca).rotate(-vcb) #向量Vbc以axis1為軸旋轉angle\n",
    "        angle2 = df.loc[i, \"torsion\"]\n",
    "        v_tmp2 = Quaternion(axis=vcb, angle=-angle2).rotate(v_tmp) # V_tmp以vcb為軸旋轉angle2\n",
    "        vdc = v_tmp2 * (df.loc[i, \"bond_longth\"]/df.loc[i-1, \"bond_longth\"]) # v_tmp2乘以 vbc長/vcd長\n",
    "        df.loc[i:i, (\"AnsX\", \"AnsY\", \"AnsZ\")] =  df.loc[i-1:i-1, (\"X\", \"Y\", \"Z\")].values + vdc\n",
    "    #df[\"error\"] = np.sqrt(np.sum((df.loc[:, (\"X\",\"Y\",\"Z\")].values - df.loc[:, (\"AnsX\",\"AnsY\",\"AnsZ\")].values)**2, axis=1))\n",
    "    df[\"error\"] = df_longth(df.loc[:, (\"X\",\"Y\",\"Z\")].values - df.loc[:, (\"AnsX\",\"AnsY\",\"AnsZ\")].values)\n",
    "    return df"
   ]
  },
  {
   "cell_type": "code",
   "execution_count": null,
   "metadata": {},
   "outputs": [],
   "source": [
    "final_df.head()"
   ]
  },
  {
   "cell_type": "code",
   "execution_count": null,
   "metadata": {},
   "outputs": [],
   "source": [
    "def pushback2(df):\n",
    "    df[\"AnsX\"], df[\"AnsY\"], df[\"AnsZ\"] = np.NaN, np.NaN, np.NaN #將答案三欄先設為空值\n",
    "    df.loc[1:3, (\"AnsX\", \"AnsY\", \"AnsZ\")] = df.loc[1:3, (\"X\", \"Y\", \"Z\")].values \n",
    "    vxyz = (\"VX\", \"VY\", \"VZ\")\n",
    "    vba, vcb =  df.loc[2:len(df)-2, vxyz].values, df.loc[3:len(df)-3, vxyz].values"
   ]
  },
  {
   "cell_type": "markdown",
   "metadata": {},
   "source": [
    "### 回推和產生答案Dataframe"
   ]
  },
  {
   "cell_type": "code",
   "execution_count": null,
   "metadata": {
    "scrolled": true
   },
   "outputs": [],
   "source": [
    "ans_dir = {}\n",
    "for i in chain_index:\n",
    "    pushback(df_dir[i]) \n",
    "    ans_dir[i] = df_dir[i].loc[:, (\"backbone_index\",\"element\", \"X\", \"Y\", \"Z\", \"AnsX\", \"AnsY\", \"AnsZ\", \"error\")]\n",
    "ans = pd.concat(ans_dir)\n",
    "#ans.loc[:, (\"AnsX\", \"AnsY\", \"AnsZ\")] = ans.loc[:, (\"AnsX\", \"AnsY\", \"AnsZ\")].round(decimals=3)"
   ]
  },
  {
   "cell_type": "code",
   "execution_count": null,
   "metadata": {
    "scrolled": true
   },
   "outputs": [],
   "source": [
    "ans.head()"
   ]
  },
  {
   "cell_type": "code",
   "execution_count": null,
   "metadata": {
    "scrolled": true
   },
   "outputs": [],
   "source": [
    "final_df.head()"
   ]
  },
  {
   "cell_type": "code",
   "execution_count": null,
   "metadata": {},
   "outputs": [],
   "source": [
    "x = np.linspace(1, len(ans), len(ans))\n",
    "y = ans.error.values\n",
    "\n",
    "plt.scatter(x, y)\n",
    "\n",
    "plt.xlabel(\"Atom number\")\n",
    "plt.ylabel(\"error (Å)\")\n",
    "plt.title(\"Unsorted values\")"
   ]
  },
  {
   "cell_type": "markdown",
   "metadata": {},
   "source": [
    "計算總誤差"
   ]
  },
  {
   "cell_type": "code",
   "execution_count": 61,
   "metadata": {},
   "outputs": [
    {
     "data": {
      "text/plain": [
       "228.3493999311472"
      ]
     },
     "execution_count": 61,
     "metadata": {},
     "output_type": "execute_result"
    }
   ],
   "source": [
    "sum(ans.error)"
   ]
  },
  {
   "cell_type": "code",
   "execution_count": null,
   "metadata": {},
   "outputs": [],
   "source": []
  },
  {
   "cell_type": "code",
   "execution_count": null,
   "metadata": {},
   "outputs": [],
   "source": []
  }
 ],
 "metadata": {
  "kernelspec": {
   "display_name": "Python 3",
   "language": "python",
   "name": "python3"
  },
  "language_info": {
   "codemirror_mode": {
    "name": "ipython",
    "version": 3
   },
   "file_extension": ".py",
   "mimetype": "text/x-python",
   "name": "python",
   "nbconvert_exporter": "python",
   "pygments_lexer": "ipython3",
   "version": "3.6.6"
  }
 },
 "nbformat": 4,
 "nbformat_minor": 2
}
